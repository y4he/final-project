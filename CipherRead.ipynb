{
 "cells": [
  {
   "cell_type": "markdown",
   "metadata": {},
   "source": [
    "# Final Project"
   ]
  },
  {
   "cell_type": "markdown",
   "metadata": {},
   "source": [
    "### Introduction: \n",
    "This is a project that can help you to encode your email to make sure that no on could get any information from your email if you want to send something sensitive."
   ]
  },
  {
   "cell_type": "markdown",
   "metadata": {},
   "source": [
    "\n",
    "### Functions:\n",
    "\n",
    "*format reference: Yuxuan Ma\n",
    "1. `encode_helper`(original):\n",
    "    - helps with encoding the character's ascii to another number.\n",
    "    \n",
    "    \n",
    "2. `encode`:\n",
    "    - split the msg into lst and encode them and put them back into a string msg\n",
    "    \n",
    "    \n",
    "3. `decode_helper`(original):\n",
    "    - helps with decoding the character's ascii back to its original ascii\n",
    "    \n",
    "    \n",
    "4. `decode`(orginal):\n",
    "    - split the msg into lst and decode them back to their original characters and put them back into a string msg  "
   ]
  },
  {
   "cell_type": "markdown",
   "metadata": {},
   "source": [
    "## Final result"
   ]
  },
  {
   "cell_type": "code",
   "execution_count": 1,
   "metadata": {},
   "outputs": [],
   "source": [
    "import Cipher"
   ]
  },
  {
   "cell_type": "code",
   "execution_count": 3,
   "metadata": {},
   "outputs": [],
   "source": [
    "msg = \"Dear Mother,  How are you? It has been a half year since I came to the United States. I really miss you and all the family. I am planning to go skiing this Christmas at Mammoth Lake. What are you gonna do this Christmas? The weather is turning cold recently. Remember to keep warm! Merry Christmas Best Wishes Your Son: Yunlong He\""
   ]
  },
  {
   "cell_type": "code",
   "execution_count": 8,
   "metadata": {},
   "outputs": [
    {
     "data": {
      "text/plain": [
       "'8YUf 8Z_SP]\\x17 ?fn Xi\\\\ mci3 Cn _Xj VYYb ^ \\\\U`Z mYUf dZ_TV F WUaY ni k_\\\\ C\\\\WbSR >_L_P^\\x19 F `SOZZg a]gg pfl Xe[ Xcc k_\\\\ QLXTWd\\x19 F [g XTIVVQVO ni ai aYWW\\\\U h\\\\]g (MWNXYRFX [n 8LXXZ_S =R\\\\V\\x1f K\\\\Uh Xi\\\\ pfl X`__R ^i h\\\\]g %JTKUVOCU! K_\\\\ bPL_SP] cm _`]YTYR Wc`X WJHJSYQ^\\x13 :MUMUJMZ ni _YYd hRc^\\x12 >Vccj (MWNXYRFX 6Ygh EWaVSa Mcif Gcb. D`YWZYR B_'"
      ]
     },
     "execution_count": 8,
     "metadata": {},
     "output_type": "execute_result"
    }
   ],
   "source": [
    "s = Cipher.encode(msg)\n",
    "s"
   ]
  },
  {
   "cell_type": "code",
   "execution_count": 7,
   "metadata": {},
   "outputs": [
    {
     "data": {
      "text/plain": [
       "'Dear Mother, How are you? It has been a half year since I came to the United States. I really miss you and all the family. I am planning to go skiing this Christmas at Mammoth I^hb What are you gonna do this Christmas? The weather is turning cold recently. Remember to keep warm! Merry Christmas Best Wishes Your Son: Yunlong He'"
      ]
     },
     "execution_count": 7,
     "metadata": {},
     "output_type": "execute_result"
    }
   ],
   "source": [
    "Cipher.decode(s)"
   ]
  },
  {
   "cell_type": "markdown",
   "metadata": {},
   "source": [
    "### Extra Credit\n",
    "I used a more complicated way to encode the msg instead of simply using plusing a random number, which makes it harder to decode.\n",
    "\n",
    "Also, instead of encode a simple msg, we choose a email to encode and decode, which makes it a lot harder to do so."
   ]
  },
  {
   "cell_type": "code",
   "execution_count": null,
   "metadata": {},
   "outputs": [],
   "source": []
  }
 ],
 "metadata": {
  "kernelspec": {
   "display_name": "Python 3",
   "language": "python",
   "name": "python3"
  },
  "language_info": {
   "codemirror_mode": {
    "name": "ipython",
    "version": 3
   },
   "file_extension": ".py",
   "mimetype": "text/x-python",
   "name": "python",
   "nbconvert_exporter": "python",
   "pygments_lexer": "ipython3",
   "version": "3.6.7"
  }
 },
 "nbformat": 4,
 "nbformat_minor": 2
}
